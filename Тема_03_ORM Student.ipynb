{
 "cells": [
  {
   "cell_type": "markdown",
   "metadata": {},
   "source": [
    "<img src=\"../Img/banner-fa-49.png\">"
   ]
  },
  {
   "cell_type": "markdown",
   "metadata": {},
   "source": [
    "Учебные материалы дисциплины \"Программирование на языках Python и SQL\" предназначены для семинарских занятий со студентами II курса Финансового университа при Правительстве Российской Федерации.\n",
    "\n",
    "Автор: Смирнов Михаил Викторович, доцент Департамента анализа данных и машинного обучения Финансового университета при Правительстве Российской Федерации. mvsmirnov@fa.ru\n",
    "\n",
    "Москва - 2021\n",
    "\n",
    "При подготовке материалов учебных занятий использовались источники\n",
    "- Essential SQLAlchemy: Mapping Python to Databases 2nd Edition. Jason Myers, Rick Copeland. O'Reilly Media, Inc. 2015.\n",
    "- Астахова И.Ф., Мельников В.М., Толстобров А.П., Фертиков В.В. СУБД: язык SQL в примерах и задачах.—М.:ФИЗМАТЛИТ, 2009. — 168 с. — ISBN 978-5-9221-0816-4.\n",
    "\n",
    "В ряде учебных примеров использованы данные <a href=\"http://insideairbnb.com/get-the-data.html\">Inside Airbnb</a>"
   ]
  },
  {
   "cell_type": "markdown",
   "metadata": {},
   "source": [
    "<a id=T_3></a>\n",
    "# Тема 3. SQLAlchemy ORM\n",
    "\n",
    "<a id=Ref></a>\n",
    "# Оглавление\n",
    "\n",
    "[Введение](#Intro)<br>\n",
    "[3.1. Определение таблиц через классы ORM](#T_3_1)<br>\n",
    "[3.2. Работа с данными](#T_3_2)<br>\n",
    "[3.3. Запросы к данным](#T_3_3)<br>\n",
    "[3.4. Исключения и транзакции](#T_3_4)<br>\n",
    "[3.5. Отображение](#T_3_5)<br>"
   ]
  },
  {
   "cell_type": "markdown",
   "metadata": {},
   "source": [
    "<img src=\"../Img/Label_02.png\">"
   ]
  },
  {
   "cell_type": "markdown",
   "metadata": {},
   "source": [
    "Семинар № 9\n",
    "\n",
    "16 апреля 2021 года <br>\n",
    "ПИ19-3, ПИ19-4 - 3 подгруппа<br>\n",
    "\n",
    "17 апреля 2021 года <br>\n",
    "ПИ19-2, ПИ19-3, ПИ19-4 - 2 подгруппа\n",
    "\n",
    "23 апреля 2021 года <br>\n",
    "ПИ19-4, ПИ19-5 - 4 подгруппа"
   ]
  },
  {
   "cell_type": "markdown",
   "metadata": {},
   "source": [
    "<a id=Intro></a>\n",
    "# Введение\n",
    "[<= ](#Ref)||[ К оглавлению ](#Ref)||[ =>](#T_3_1)\n",
    "\n",
    "ORM - Object-relational mapping - Объектно-реляционное отображение\n",
    "\n",
    "SQLAlchemy ORM обеспечивает эффективный способ привязки схемы и операций базы данных к объектам данных.\n",
    "\n",
    "В SQLAlchemy Core мы создавали контейнер метаданных, а затем объявляли объект *Table*, связанный с этими метаданными. В SQLAlchemy ORM мы будем определять класс, который наследуется от специального базового класса *declarative_base*. Этот базовый класс объединяет контейнер метаданных и средство сопоставления, которое сопоставляет наш класс с таблицей базы данных. Он также сопоставляет экземпляры класса с записями в этой таблице."
   ]
  },
  {
   "cell_type": "markdown",
   "metadata": {},
   "source": [
    "<a id=T_3_1></a>\n",
    "[<= ](#Intro)||[ К оглавлению ](#Ref)||[ =>](#T_3_2)\n",
    "\n",
    "# 3.1. Определение таблиц через классы ORM\n",
    "\n",
    "ORM классы должны:\n",
    "- Происходить от класса *declarative_base*.\n",
    "- Содержать `__tablename__`, которое является именем таблицы базы данных.\n",
    "- Содержать один или несколько атрибутов, которые являются объектами *Column*.\n",
    "- Содержать атрибуты, составляющие первичный ключ.\n",
    "\n",
    "Изучим требование, связанное с атрибутами. Определение столбцов в классе ORM похоже на определение столбцов в объекте *Table*, которое мы изучили в теме SQLAlchemy Core. Однако есть важное отличие. При определении столбцов в классе ORM в качестве имени столбца будет установлено имя атрибута класса, которому он назначен. Все остальное, что связано с типами данных и столбцами, применимо и здесь.\n",
    "\n",
    "<img src=\"./Img/Listings_ORM_Schema.png\">\n",
    "\n",
    "<br><br>\n",
    "Определим таблицу *listings* как класс ORM"
   ]
  },
  {
   "cell_type": "code",
   "execution_count": 1,
   "metadata": {},
   "outputs": [],
   "source": [
    "from sqlalchemy.ext.declarative import declarative_base\n",
    "from sqlalchemy import (Table, Column, \n",
    "                        Integer, Numeric, String, Boolean,\n",
    "                        ForeignKey, ForeignKeyConstraint, CheckConstraint)\n",
    "\n",
    "from datetime import datetime\n",
    "from sqlalchemy import DateTime\n",
    "\n",
    "Base = declarative_base()"
   ]
  },
  {
   "cell_type": "code",
   "execution_count": 2,
   "metadata": {},
   "outputs": [],
   "source": [
    "class Listing(Base):\n",
    "    __tablename__ = 'listings'\n",
    "\n",
    "    listing_id = Column(Integer(), primary_key = True)\n",
    "    listing_name = Column(String(50), index = True, nullable = False)\n",
    "    listing_url = Column(String(50))\n",
    "    host_id = Column(Integer())\n",
    "    neighbourhood_id = Column(Integer())\n",
    "    amenities = Column(String(250))\n",
    "    property_type_id = Column(Integer())\n",
    "    room_type_id = Column(Integer())\n",
    "    bedrooms = Column(Integer())\n",
    "    beds = Column(Integer())\n",
    "    price = Column('price',Numeric(7,2))\n",
    "    \n",
    "    __table_args__ = (\n",
    "        ForeignKeyConstraint(['neighbourhood_id'],['neighbourhoods.neigh_id']),\n",
    "        ForeignKeyConstraint(['property_type_id'], ['property_types.property_type_id']),\n",
    "        ForeignKeyConstraint(['room_type_id'], ['room_types.room_type_id']),\n",
    "        CheckConstraint('price >= 0.00', name='listing_price_positive')\n",
    "    )\n",
    "    "
   ]
  },
  {
   "cell_type": "markdown",
   "metadata": {},
   "source": [
    "В этом примере *Base* - экземпляр класса *declarative_base()*. Затем создается дочерний класс *Listings*. Определяется имя таблицы 'listings'. Определяются атрибуты, устанавливается первичный ключ. Обратимся к свойству `__table__` класса."
   ]
  },
  {
   "cell_type": "code",
   "execution_count": 3,
   "metadata": {},
   "outputs": [
    {
     "data": {
      "text/plain": [
       "Table('listings', MetaData(bind=None), Column('listing_id', Integer(), table=<listings>, primary_key=True, nullable=False), Column('listing_name', String(length=50), table=<listings>, nullable=False), Column('listing_url', String(length=50), table=<listings>), Column('host_id', Integer(), table=<listings>), Column('neighbourhood_id', Integer(), ForeignKey('neighbourhoods.neigh_id'), table=<listings>), Column('amenities', String(length=250), table=<listings>), Column('property_type_id', Integer(), ForeignKey('property_types.property_type_id'), table=<listings>), Column('room_type_id', Integer(), ForeignKey('room_types.room_type_id'), table=<listings>), Column('bedrooms', Integer(), table=<listings>), Column('beds', Integer(), table=<listings>), Column('price', Numeric(precision=7, scale=2), table=<listings>), schema=None)"
      ]
     },
     "execution_count": 3,
     "metadata": {},
     "output_type": "execute_result"
    }
   ],
   "source": [
    "Listing.__table__"
   ]
  },
  {
   "cell_type": "markdown",
   "metadata": {},
   "source": [
    "Создадим класс для клиентов"
   ]
  },
  {
   "cell_type": "code",
   "execution_count": 4,
   "metadata": {},
   "outputs": [],
   "source": [
    "from datetime import datetime\n",
    "from sqlalchemy import DateTime\n",
    "\n",
    "class User(Base):\n",
    "    __tablename__ = 'users'\n",
    "    \n",
    "    user_id = Column(Integer(), primary_key = True)\n",
    "    username = Column(String(15), nullable = False, unique = True)\n",
    "    email_address = Column(String(255), nullable = False)\n",
    "    phone = Column(String(20), nullable = False)\n",
    "    password = Column(String(25), nullable = False)\n",
    "    created_on = Column(DateTime(), default = datetime.now)\n",
    "    updated_on = Column(DateTime(), default = datetime.now, onupdate=datetime.now)"
   ]
  },
  {
   "cell_type": "markdown",
   "metadata": {},
   "source": [
    "Здесь мы определили несколько атрибутов, которые не могут оставаться пустыми. Требуется уникальное значение *username*. Для атрибута *updated_on* мы установили текущее время по умолчанию, если время не указано. Использование *onupdate* приведет к установке текущего времени при обновлении любого атрибута записи."
   ]
  },
  {
   "cell_type": "markdown",
   "metadata": {},
   "source": [
    "## 3.1.1. Ключи, ограничения, индексы\n",
    "\n",
    "Ранее, в разделе *Core*, мы изучили, что ключи и ограничения могут задаваться как в составе элемента *Column()* конструктора *Table*, так и в явном виде. Например, в *line_items* атрибут *order_id* является внешним ключом, тода\n",
    "\n",
    "`ForeignKeyConstraint(['order_id'], ['order.order_id'])`. \n",
    "\n",
    "В ORM также существует для этого два способа, но так как конструктор *Table* здесь не используется, то применяются свойства класса. \n",
    "\n",
    "```\n",
    "user_id = Column(Integer(), ForeignKey('users.user_id'))\n",
    "```\n",
    "\n",
    "Для задания ограничения в явном виде в классе используется `__table_args__`\n",
    "\n",
    "```\n",
    "class SomeDataClass(Base):\n",
    "    __tablename__ = 'somedatatable'\n",
    "    __table_args__ = (ForeignKeyConstraint(['id'], ['other_table.id']),\n",
    "                      CheckConstraint(price >= 0.00', name='unit_cost_positive'))\n",
    "```\n",
    "В данном примере значением `__table_args__` является кортеж.\n",
    "\n",
    "### Задание 3.1.1.1.\n",
    "Создать классы *Order, Line_item, Host, Neighbourhood, Room_type, Property_type*. Создать базу данных *Listings.db*"
   ]
  },
  {
   "cell_type": "code",
   "execution_count": 5,
   "metadata": {},
   "outputs": [],
   "source": [
    "# Ваш код здесь\n"
   ]
  },
  {
   "cell_type": "code",
   "execution_count": 6,
   "metadata": {},
   "outputs": [],
   "source": [
    "class Order(Base):\n",
    "\n",
    "    __tablename__ = 'orders'\n",
    "    order_id = Column(Integer(), primary_key = True)\n",
    "    user_id = Column(Integer())\n",
    "    \n",
    "    __table_args__ = (ForeignKeyConstraint(['user_id'], ['users.user_id']),)"
   ]
  },
  {
   "cell_type": "code",
   "execution_count": 7,
   "metadata": {},
   "outputs": [
    {
     "data": {
      "text/plain": [
       "Table('orders', MetaData(bind=None), Column('order_id', Integer(), table=<orders>, primary_key=True, nullable=False), Column('user_id', Integer(), ForeignKey('users.user_id'), table=<orders>), schema=None)"
      ]
     },
     "execution_count": 7,
     "metadata": {},
     "output_type": "execute_result"
    }
   ],
   "source": [
    "Order.__table__"
   ]
  },
  {
   "cell_type": "code",
   "execution_count": 8,
   "metadata": {},
   "outputs": [],
   "source": [
    "class Line_item(Base):\n",
    "    \n",
    "    __tablename__ = 'line_items'\n",
    "    item_id = Column(Integer(), primary_key = True)\n",
    "    order_id = Column(Integer(), ForeignKey('orders.order_id'))\n",
    "    listing_id = Column(Integer(), ForeignKey('listings.listing_id'))\n",
    "    item_start_date = Column(DateTime(), nullable = False, default = datetime.now)\n",
    "    item_end_date = Column('item_end_date', DateTime(), nullable = False)"
   ]
  },
  {
   "cell_type": "code",
   "execution_count": 9,
   "metadata": {},
   "outputs": [
    {
     "data": {
      "text/plain": [
       "Table('line_items', MetaData(bind=None), Column('item_id', Integer(), table=<line_items>, primary_key=True, nullable=False), Column('order_id', Integer(), ForeignKey('orders.order_id'), table=<line_items>), Column('listing_id', Integer(), ForeignKey('listings.listing_id'), table=<line_items>), Column('item_start_date', DateTime(), table=<line_items>, nullable=False, default=ColumnDefault(<function datetime.now at 0x0000024258B3D1F8>)), Column('item_end_date', DateTime(), table=<line_items>, nullable=False), schema=None)"
      ]
     },
     "execution_count": 9,
     "metadata": {},
     "output_type": "execute_result"
    }
   ],
   "source": [
    "Line_item.__table__"
   ]
  },
  {
   "cell_type": "code",
   "execution_count": 10,
   "metadata": {},
   "outputs": [],
   "source": [
    "class Host(Base):\n",
    "    \n",
    "    __tablename__ = 'hosts'\n",
    "    host_id = Column(Integer(), primary_key = True)\n",
    "    host_name = Column(String(50), nullable = False)"
   ]
  },
  {
   "cell_type": "code",
   "execution_count": 11,
   "metadata": {},
   "outputs": [],
   "source": [
    "class Neighbourhood(Base):\n",
    "    \n",
    "    __tablename__ = 'neighbourhoods'\n",
    "    neigh_id = Column(Integer(), primary_key = True)\n",
    "    neigh_name = Column(String(50), nullable = False, unique = True)"
   ]
  },
  {
   "cell_type": "code",
   "execution_count": 12,
   "metadata": {},
   "outputs": [],
   "source": [
    "class Room_type(Base):\n",
    "    \n",
    "    __tablename__ = 'room_types'\n",
    "    room_type_id = Column(Integer(), primary_key = True)\n",
    "    room_type_name = Column(String(50), nullable = False)"
   ]
  },
  {
   "cell_type": "code",
   "execution_count": 13,
   "metadata": {},
   "outputs": [],
   "source": [
    "class Property_type(Base):\n",
    "    \n",
    "    __tablename__ = 'property_types'\n",
    "    property_type_id = Column(Integer(), primary_key = True)\n",
    "    property_type_name = Column(String(50), nullable = False)"
   ]
  },
  {
   "cell_type": "markdown",
   "metadata": {},
   "source": [
    "## 3.1.2. Сохранение схемы"
   ]
  },
  {
   "cell_type": "code",
   "execution_count": 14,
   "metadata": {},
   "outputs": [],
   "source": [
    "from sqlalchemy import create_engine\n",
    "engine = create_engine('sqlite:///Listings.db')\n",
    "\n",
    "Base.metadata.create_all(engine)"
   ]
  },
  {
   "cell_type": "markdown",
   "metadata": {},
   "source": [
    "## 3.1.3. Связи\n",
    "В *ORM* имеются некоторые различия при связывании таблиц по сравнению с *Core*. *ORM* также использует *ForeignKey* для ограничения и связывания объектов. Однако *ORM* использует директиву *relationship* чтобы предоставить свойство доступа к связанному объекту. Это добавляет некоторые накладные расходы при использовании *ORM*; однако плюсы перевешивают недостатки. В примере показано, как определить связи с помощью методов *relationship* и *backref*.\n",
    "```\n",
    "from sqlalchemy.orm import relationship, backref\n",
    "\n",
    "class Orders(Base):\n",
    "    __tablename__='orders'\n",
    "    order_id=Column(Integer(), primary_key=True)\n",
    "    user_id=Column(Integer(), ForeignKey('users.user_id'))\n",
    "\n",
    "    User=relationship('Users', backref=backref('orders', order_by=order_id))\n",
    "```\n",
    "Таким образом, в классе *Orders*, устанавливается отношение «один ко многим» с классом *Users*. Мы можем связать пользователя с его заказом, обратившись к свойству *user*. Это отношение также устанавливает свойство *orders* в классе *Users* через аргумент ключевого слова *backref*, которое упорядочивается по *order_id*. Директиве *relationship* требуется целевой класс для отношения, и она может дополнительно включать обратное отношение для целевого класса. *SQLAlchemy* знает, как сопоставить заданный нами *ForeignKey* с классом, который мы определили в отношении. В этом примере команда `ForeignKey(users.user_id)` сопоставляется с классом *User* через атрибут `__tablename__` пользователей и формирует связь. В строке \n",
    "```\n",
    "User=relationship('Users', backref=backref('orders', order_by=order_id))\n",
    "```\n",
    "устанавливается связь *один ко многим*.\n",
    "\n",
    "Также возможно установить взаимно-однозначное отношение *один к одному*. В следующем примере класс *Line_items* имеет взаимно-однозначное отношение с классом *Listings*. Аргумент ключевого слова `uselist = False` определяет его как взаимно однозначное отношение. Здесь используется более простая обратная ссылка, поскольку нам не нужно контролировать порядок.\n",
    "```\n",
    "class Line_items(Base):\n",
    "    \n",
    "    __tablename__='line_items'\n",
    "    item_id=Column(Integer(), primary_key=True)\n",
    "    order_id=Column(Integer(), ForeignKey('orders.order_id'))\n",
    "    listing_id=Column(Integer(), ForeignKey('listings.listing_id'))\n",
    "    item_start_date=Column(DateTime(), nullable=False, default=datetime.now)\n",
    "    item_end_date=Column('item_end_date', DateTime(), nullable=False)\n",
    "    \n",
    "    Order=relationship(\"Orders\", backref=backref('line_items', order_by=line_item_id))\n",
    "    Listing=relationship(\"Listings\", uselist=False))\n",
    "```"
   ]
  },
  {
   "cell_type": "markdown",
   "metadata": {},
   "source": [
    "<a id=T_3_2></a>\n",
    "[<= ](#T_3_1)||[ К оглавлению ](#Ref)||[ =>](#T_3_3)\n",
    "# 3.2. Работа с данными\n",
    "\n",
    "\n",
    "## 3.2.1. Сеанс\n",
    "\n",
    "Сеанс - это способ взаимодействия *ORM SQLAlchemy* с базой данных. Она \"обертывает\" соединение с базой данных через механизм и предоставляет карту идентификации для объектов, которые вы загружаете через сеанс или связываете с сеансом. Карта идентификации - это структура данных, подобная кешу, которая содержит уникальный список объектов, определяемый таблицей объекта и первичным ключом. Сеанс также \"обертывает\" транзакцию, и эта транзакция будет открыта до тех пор, пока сеанс не будет зафиксирован или не пройзойдет откат, что очень похоже на процесс, описанный в теме *Core*.\n",
    "\n",
    "Для нового сеанса SQLAlchemy предоставляет класс *sessionmaker*, чтобы гарантировать, что сеансы могут быть созданы с одинаковыми параметрами во всем приложении. SQLAlchemy делает это путем создания класса сеанса (Session), который настроен в соответствии с аргументами, переданными в класс *sessionmaker*, который следует использовать только один раз в глобальной области действия приложения и рассматривать как параметр конфигурации. Создадим новый сеанс, связанный с базой данных SQLite в памяти:"
   ]
  },
  {
   "cell_type": "code",
   "execution_count": 15,
   "metadata": {},
   "outputs": [],
   "source": [
    "from sqlalchemy import create_engine\n",
    "from sqlalchemy.orm import sessionmaker # 1 \n",
    "\n",
    "engine = create_engine('sqlite:///:memory:') # 2\n",
    "\n",
    "Session = sessionmaker(bind=engine) # 3\n",
    "\n",
    "session = Session() # 4"
   ]
  },
  {
   "cell_type": "markdown",
   "metadata": {},
   "source": [
    "1. Импорт модуля создания сеанса *sessionmaker*\n",
    "2. База данных SQLite в памяти\n",
    "3. Определение класса сеанса с привязкой к механизму.\n",
    "4. Создание сеанса.\n",
    "\n",
    "Теперь у нас есть сеанс, который мы можем использовать для взаимодействия с базой данных. Определим классы таблиц базы данных. Дополнительно добавим методы `__repr__`, чтобы упростить просмотр и воссоздание экземпляров объектов."
   ]
  },
  {
   "cell_type": "code",
   "execution_count": 16,
   "metadata": {},
   "outputs": [],
   "source": [
    "from datetime import datetime\n",
    "\n",
    "from sqlalchemy import (Table, Column, \n",
    "                        Integer, Numeric, String, Boolean, DateTime,\n",
    "                        ForeignKey, ForeignKeyConstraint, CheckConstraint)\n",
    "\n",
    "from sqlalchemy.ext.declarative import declarative_base\n",
    "from sqlalchemy.orm import relationship, backref\n",
    "\n",
    "Base = declarative_base()\n",
    "\n",
    "\n",
    "class User(Base):\n",
    "    __tablename__ = 'users'\n",
    "    \n",
    "    user_id = Column(Integer(), primary_key = True)\n",
    "    username = Column(String(15), nullable = False, unique = True)\n",
    "    email_address = Column(String(255), nullable = False)\n",
    "    phone = Column(String(20), nullable = False)\n",
    "    password = Column(String(25), nullable = False)\n",
    "    created_on = Column(DateTime(), default = datetime.now)\n",
    "    updated_on = Column(DateTime(), default = datetime.now, onupdate=datetime.now)\n",
    "\n",
    "    def __repr__(self):\n",
    "        return \"User(username='{self.username}', \" \\\n",
    "                     \"email_address='{self.email_address}', \" \\\n",
    "                     \"phone='{self.phone}', \" \\\n",
    "                     \"password='{self.password}')\".format(self=self)\n",
    "\n",
    "    \n",
    "class Order(Base):\n",
    "\n",
    "    __tablename__ = 'orders'\n",
    "    order_id = Column(Integer(), primary_key = True)\n",
    "    user_id = Column(Integer())\n",
    "    \n",
    "    __table_args__ = (ForeignKeyConstraint(['user_id'], ['users.user_id']),)\n",
    "    \n",
    "    User=relationship(\"User\", backref=backref('orders', order_by=order_id))\n",
    "    \n",
    "    def __repr__(self):\n",
    "        return \"Order(user_id='{self.user_id}')\".format(self=self)\n",
    "    \n",
    "\n",
    "class Line_item(Base):\n",
    "    \n",
    "    __tablename__ = 'line_items'\n",
    "    item_id = Column(Integer(), primary_key = True)\n",
    "    order_id = Column(Integer(), ForeignKey('orders.order_id'))\n",
    "    listing_id = Column(Integer(), ForeignKey('listings.listing_id'))\n",
    "    item_start_date = Column(DateTime(), nullable = False, default = datetime.now)\n",
    "    item_end_date = Column('item_end_date', DateTime(), nullable = False)\n",
    "    \n",
    "    Order=relationship(\"Order\", backref=backref('line_items', order_by=item_id))\n",
    "    Listing=relationship(\"Listing\", uselist=False)\n",
    "    \n",
    "    def __repr__(self):\n",
    "        return \"Line_item(order_id='{self.order_id}', \" \\\n",
    "                        \"listing_id='{self.listing_id}', \" \\\n",
    "                        \"item_start_date='{self.item_start_date}', \" \\\n",
    "                        \"item_end_date='{self.item_end_date}')\".format(self=self)\n",
    "\n",
    "\n",
    "class Host(Base):\n",
    "    \n",
    "    __tablename__ = 'hosts'\n",
    "    host_id = Column(Integer(), primary_key = True)\n",
    "    host_name = Column(String(50), nullable = False)\n",
    "    def __repr__(self):\n",
    "        return \"Host(host_id='{self.host_name}')\".format(self=self)\n",
    "    \n",
    "    \n",
    "class Neighbourhood(Base):\n",
    "    \n",
    "    __tablename__ = 'neighbourhoods'\n",
    "    neigh_id = Column(Integer(), primary_key = True)\n",
    "    neigh_name = Column(String(50), nullable = False, unique = True)\n",
    "    def __repr__(self):\n",
    "        return \"Neighbourhood(neigh_name='{self.neigh_name}')\".format(self=self)\n",
    "    \n",
    "    \n",
    "class Room_type(Base):\n",
    "    \n",
    "    __tablename__ = 'room_types'\n",
    "    room_type_id = Column(Integer(), primary_key = True)\n",
    "    room_type_name = Column(String(50), nullable = False)\n",
    "    def __repr__(self):\n",
    "        return \"Room_type(room_type_name='{self.room_type_name}')\".format(self=self)"
   ]
  },
  {
   "cell_type": "markdown",
   "metadata": {},
   "source": [
    "### Задание 3.2.1.1.\n",
    "\n",
    "Создайте класс *Property_type* для справочника типов собственности *property_types*"
   ]
  },
  {
   "cell_type": "code",
   "execution_count": 17,
   "metadata": {},
   "outputs": [],
   "source": [
    "# Ваш код здесь\n"
   ]
  },
  {
   "cell_type": "code",
   "execution_count": 18,
   "metadata": {},
   "outputs": [],
   "source": [
    "class Property_type(Base):\n",
    "    \n",
    "    __tablename__ = 'property_types'\n",
    "    property_type_id = Column(Integer(), primary_key = True)\n",
    "    property_type_name = Column(String(50), nullable = False)\n",
    "    def __repr__(self):\n",
    "        return \"Property_type(property_type_name='{self.property_type_name}')\".format(self=self)"
   ]
  },
  {
   "cell_type": "markdown",
   "metadata": {},
   "source": [
    "### Задание 3.2.1.2.\n",
    "Создайте класс *Listing* с отношениями к классам *Host, Neighbourhood, Room_type, Property_type, Line_item* и методами `__repr__`"
   ]
  },
  {
   "cell_type": "code",
   "execution_count": 19,
   "metadata": {},
   "outputs": [],
   "source": [
    "# Ваш код здесь\n"
   ]
  },
  {
   "cell_type": "code",
   "execution_count": 20,
   "metadata": {},
   "outputs": [],
   "source": [
    "class Listing(Base):\n",
    "    __tablename__ = 'listings'\n",
    "\n",
    "    listing_id = Column(Integer(), primary_key = True)\n",
    "    listing_name = Column(String(50), index = True, nullable = False)\n",
    "    listing_url = Column(String(50))\n",
    "    host_id = Column(Integer())\n",
    "    neighbourhood_id = Column(Integer())\n",
    "    amenities = Column(String(250))\n",
    "    property_type_id = Column(Integer())\n",
    "    room_type_id = Column(Integer())\n",
    "    bedrooms = Column(Integer())\n",
    "    beds = Column(Integer())\n",
    "    price = Column('price',Numeric(7,2))\n",
    "    \n",
    "    __table_args__ = (\n",
    "        ForeignKeyConstraint(['neighbourhood_id'],['neighbourhoods.neigh_id']),\n",
    "        ForeignKeyConstraint(['property_type_id'], ['property_types.property_type_id']),\n",
    "        ForeignKeyConstraint(['room_type_id'], ['room_types.room_type_id']),\n",
    "        ForeignKeyConstraint(['host_id'], ['hosts.host_id']),\n",
    "        CheckConstraint('price >= 0.00', name='listing_price_positive')\n",
    "    )\n",
    "    \n",
    "    Host=relationship('Host', backref=backref('listings', order_by=listing_id))\n",
    "    Neighbourhood=relationship('Neighbourhood', backref=backref('listings', order_by=listing_id))\n",
    "    Property_type=relationship('Property_type', backref=backref('listings', order_by=listing_id))\n",
    "    Room_type=relationship('Room_type', backref=backref('listings', order_by=listing_id))\n",
    "\n",
    "    \n",
    "    def __repr__(self):\n",
    "        return \"Listing(listing_name='{self.listing_name}', \" \\\n",
    "                       \"listing_url='{self.listing_url}', \" \\\n",
    "                       \"amenities='{self.amenities}', \" \\\n",
    "                       \"bedrooms='{self.bedrooms}', \" \\\n",
    "                       \"price='{self.price}')\".format(self=self)"
   ]
  },
  {
   "cell_type": "code",
   "execution_count": 21,
   "metadata": {},
   "outputs": [],
   "source": [
    "Base.metadata.create_all(engine)"
   ]
  },
  {
   "cell_type": "markdown",
   "metadata": {},
   "source": [
    "## 3.2.2. Вставка данных"
   ]
  },
  {
   "cell_type": "code",
   "execution_count": 22,
   "metadata": {},
   "outputs": [],
   "source": [
    "import pandas as pd"
   ]
  },
  {
   "cell_type": "code",
   "execution_count": 23,
   "metadata": {},
   "outputs": [
    {
     "data": {
      "text/html": [
       "<div>\n",
       "<style scoped>\n",
       "    .dataframe tbody tr th:only-of-type {\n",
       "        vertical-align: middle;\n",
       "    }\n",
       "\n",
       "    .dataframe tbody tr th {\n",
       "        vertical-align: top;\n",
       "    }\n",
       "\n",
       "    .dataframe thead th {\n",
       "        text-align: right;\n",
       "    }\n",
       "</style>\n",
       "<table border=\"1\" class=\"dataframe\">\n",
       "  <thead>\n",
       "    <tr style=\"text-align: right;\">\n",
       "      <th></th>\n",
       "      <th>id</th>\n",
       "      <th>listing_url</th>\n",
       "      <th>name</th>\n",
       "      <th>host_id</th>\n",
       "      <th>host_name</th>\n",
       "      <th>host_is_superhost</th>\n",
       "      <th>neighbourhood_cleansed</th>\n",
       "      <th>property_type</th>\n",
       "      <th>room_type</th>\n",
       "      <th>bathrooms_text</th>\n",
       "      <th>...</th>\n",
       "      <th>first_review</th>\n",
       "      <th>last_review</th>\n",
       "      <th>review_scores_rating</th>\n",
       "      <th>review_scores_accuracy</th>\n",
       "      <th>review_scores_cleanliness</th>\n",
       "      <th>review_scores_checkin</th>\n",
       "      <th>review_scores_communication</th>\n",
       "      <th>review_scores_location</th>\n",
       "      <th>review_scores_value</th>\n",
       "      <th>reviews_per_month</th>\n",
       "    </tr>\n",
       "  </thead>\n",
       "  <tbody>\n",
       "    <tr>\n",
       "      <th>0</th>\n",
       "      <td>20168</td>\n",
       "      <td>https://www.airbnb.com/rooms/20168</td>\n",
       "      <td>Studio with private bathroom in the centre 1</td>\n",
       "      <td>59484</td>\n",
       "      <td>Alexander</td>\n",
       "      <td>f</td>\n",
       "      <td>Centrum-Oost</td>\n",
       "      <td>Private room in townhouse</td>\n",
       "      <td>Private room</td>\n",
       "      <td>1 private bath</td>\n",
       "      <td>...</td>\n",
       "      <td>2010-03-02</td>\n",
       "      <td>2020-04-09</td>\n",
       "      <td>89</td>\n",
       "      <td>10.0</td>\n",
       "      <td>10.0</td>\n",
       "      <td>10.0</td>\n",
       "      <td>10.0</td>\n",
       "      <td>10.0</td>\n",
       "      <td>9.0</td>\n",
       "      <td>2.58</td>\n",
       "    </tr>\n",
       "  </tbody>\n",
       "</table>\n",
       "<p>1 rows × 25 columns</p>\n",
       "</div>"
      ],
      "text/plain": [
       "      id                         listing_url  \\\n",
       "0  20168  https://www.airbnb.com/rooms/20168   \n",
       "\n",
       "                                           name  host_id  host_name  \\\n",
       "0  Studio with private bathroom in the centre 1    59484  Alexander   \n",
       "\n",
       "  host_is_superhost neighbourhood_cleansed              property_type  \\\n",
       "0                 f           Centrum-Oost  Private room in townhouse   \n",
       "\n",
       "      room_type  bathrooms_text  ...  first_review  last_review  \\\n",
       "0  Private room  1 private bath  ...    2010-03-02   2020-04-09   \n",
       "\n",
       "  review_scores_rating  review_scores_accuracy  review_scores_cleanliness  \\\n",
       "0                   89                    10.0                       10.0   \n",
       "\n",
       "  review_scores_checkin review_scores_communication  review_scores_location  \\\n",
       "0                  10.0                        10.0                    10.0   \n",
       "\n",
       "   review_scores_value  reviews_per_month  \n",
       "0                  9.0               2.58  \n",
       "\n",
       "[1 rows x 25 columns]"
      ]
     },
     "execution_count": 23,
     "metadata": {},
     "output_type": "execute_result"
    }
   ],
   "source": [
    "df = pd.read_csv('./Data/ListingsAm.csv', sep=\";\")\n",
    "df.head(1)"
   ]
  },
  {
   "cell_type": "code",
   "execution_count": 24,
   "metadata": {},
   "outputs": [
    {
     "name": "stdout",
     "output_type": "stream",
     "text": [
      "<class 'pandas.core.frame.DataFrame'>\n",
      "RangeIndex: 3535 entries, 0 to 3534\n",
      "Data columns (total 25 columns):\n",
      " #   Column                       Non-Null Count  Dtype  \n",
      "---  ------                       --------------  -----  \n",
      " 0   id                           3535 non-null   int64  \n",
      " 1   listing_url                  3535 non-null   object \n",
      " 2   name                         3532 non-null   object \n",
      " 3   host_id                      3535 non-null   int64  \n",
      " 4   host_name                    3535 non-null   object \n",
      " 5   host_is_superhost            3535 non-null   object \n",
      " 6   neighbourhood_cleansed       3535 non-null   object \n",
      " 7   property_type                3535 non-null   object \n",
      " 8   room_type                    3535 non-null   object \n",
      " 9   bathrooms_text               3534 non-null   object \n",
      " 10  bedrooms                     3366 non-null   float64\n",
      " 11  beds                         3532 non-null   float64\n",
      " 12  amenities                    3535 non-null   object \n",
      " 13  price                        3535 non-null   float64\n",
      " 14  number_of_reviews            3535 non-null   int64  \n",
      " 15  first_review                 3535 non-null   object \n",
      " 16  last_review                  3535 non-null   object \n",
      " 17  review_scores_rating         3535 non-null   int64  \n",
      " 18  review_scores_accuracy       3534 non-null   float64\n",
      " 19  review_scores_cleanliness    3534 non-null   float64\n",
      " 20  review_scores_checkin        3534 non-null   float64\n",
      " 21  review_scores_communication  3535 non-null   float64\n",
      " 22  review_scores_location       3535 non-null   float64\n",
      " 23  review_scores_value          3535 non-null   float64\n",
      " 24  reviews_per_month            3535 non-null   float64\n",
      "dtypes: float64(10), int64(4), object(11)\n",
      "memory usage: 690.6+ KB\n"
     ]
    }
   ],
   "source": [
    "df.info()"
   ]
  },
  {
   "cell_type": "markdown",
   "metadata": {},
   "source": [
    "Подготовим справочник районов"
   ]
  },
  {
   "cell_type": "code",
   "execution_count": 25,
   "metadata": {
    "scrolled": false
   },
   "outputs": [
    {
     "data": {
      "text/plain": [
       "{1: 'Bijlmer-Centrum',\n",
       " 2: 'Bos en Lommer',\n",
       " 3: 'Buitenveldert - Zuidas',\n",
       " 4: 'Centrum-Oost',\n",
       " 5: 'Centrum-West',\n",
       " 6: 'De Aker - Nieuw Sloten',\n",
       " 7: 'De Baarsjes - Oud-West',\n",
       " 8: 'De Pijp - Rivierenbuurt',\n",
       " 9: 'Geuzenveld - Slotermeer',\n",
       " 10: 'IJburg - Zeeburgereiland',\n",
       " 11: 'Noord-Oost',\n",
       " 12: 'Noord-West',\n",
       " 13: 'Oostelijk Havengebied - Indische Buurt',\n",
       " 14: 'Osdorp',\n",
       " 15: 'Oud-Noord',\n",
       " 16: 'Oud-Oost',\n",
       " 17: 'Slotervaart',\n",
       " 18: 'Watergraafsmeer',\n",
       " 19: 'Westerpark',\n",
       " 20: 'Zuid'}"
      ]
     },
     "execution_count": 25,
     "metadata": {},
     "output_type": "execute_result"
    }
   ],
   "source": [
    "neigh_df = df[\"neighbourhood_cleansed\"].value_counts().sort_index().reset_index()\n",
    "neigh_df.index=range(1, len(neigh_df)+1)\n",
    "neigh_dict = neigh_df[\"index\"].to_dict()\n",
    "neigh_dict"
   ]
  },
  {
   "cell_type": "code",
   "execution_count": 26,
   "metadata": {},
   "outputs": [],
   "source": [
    "for key, value in neigh_dict.items():\n",
    "    w = Neighbourhood(neigh_id = key, neigh_name = value)\n",
    "    session.add(w)\n",
    "session.commit()"
   ]
  },
  {
   "cell_type": "code",
   "execution_count": 27,
   "metadata": {},
   "outputs": [
    {
     "name": "stdout",
     "output_type": "stream",
     "text": [
      "20 Zuid\n"
     ]
    }
   ],
   "source": [
    "print(w.neigh_id, w.neigh_name)"
   ]
  },
  {
   "cell_type": "markdown",
   "metadata": {},
   "source": [
    "### Задание 3.2.2.1.\n",
    "Создайте справочники владельцев недвижимости, типов комнат и типов собственности. При создании справочника владельцев в качестве значения первичного ключа укажите значение индекса владельца из *ListingsAm.csv*\n",
    "\n",
    "Чтобы добавить запись, содержащую значения нескольких столбцов, например первичного ключа и названия, можно в одном выражении указать несколько параметров класса таблицы:\n",
    "\n",
    "```\n",
    "w=ClassName(Column_1=value_1, Column_2=value_2, ... Column_n=value_n)\n",
    "sesseion.add(w)\n",
    "```"
   ]
  },
  {
   "cell_type": "code",
   "execution_count": 28,
   "metadata": {},
   "outputs": [],
   "source": [
    "# Ваш код здесь\n"
   ]
  },
  {
   "cell_type": "code",
   "execution_count": 29,
   "metadata": {
    "scrolled": true
   },
   "outputs": [
    {
     "data": {
      "text/plain": [
       "host_id  host_name      \n",
       "47517    Geert Alexander    1\n",
       "58458    Dre                1\n",
       "59484    Alexander          1\n",
       "61977    Marjolein          1\n",
       "81046    Fabienne           1\n",
       "Name: host_id, dtype: int64"
      ]
     },
     "execution_count": 29,
     "metadata": {},
     "output_type": "execute_result"
    }
   ],
   "source": [
    "H=df[['host_id','host_name']].groupby([\"host_id\", \"host_name\"])['host_id'].count()\n",
    "H.head()"
   ]
  },
  {
   "cell_type": "code",
   "execution_count": 30,
   "metadata": {},
   "outputs": [
    {
     "data": {
      "text/plain": [
       "'Dre'"
      ]
     },
     "execution_count": 30,
     "metadata": {},
     "output_type": "execute_result"
    }
   ],
   "source": [
    "item=H.index[1]\n",
    "item[1]"
   ]
  },
  {
   "cell_type": "code",
   "execution_count": 31,
   "metadata": {
    "scrolled": true
   },
   "outputs": [
    {
     "data": {
      "text/plain": [
       "(331113200, 'Jennifer')"
      ]
     },
     "execution_count": 31,
     "metadata": {},
     "output_type": "execute_result"
    }
   ],
   "source": [
    "for item in H.index:\n",
    "    w = Host(host_id=item[0], host_name=item[1])\n",
    "    session.add(w)\n",
    "\n",
    "session.commit()\n",
    "w.host_id, w.host_name"
   ]
  },
  {
   "cell_type": "markdown",
   "metadata": {},
   "source": [
    "Проверка, что записано в таблицу *hosts*, сколько записей в таблице *hosts*."
   ]
  },
  {
   "cell_type": "code",
   "execution_count": 32,
   "metadata": {},
   "outputs": [
    {
     "data": {
      "text/plain": [
       "Table('hosts', MetaData(bind=None), Column('host_id', Integer(), table=<hosts>, primary_key=True, nullable=False), Column('host_name', String(length=50), table=<hosts>, nullable=False), schema=None)"
      ]
     },
     "execution_count": 32,
     "metadata": {},
     "output_type": "execute_result"
    }
   ],
   "source": [
    "Host.__table__"
   ]
  },
  {
   "cell_type": "code",
   "execution_count": 33,
   "metadata": {},
   "outputs": [
    {
     "data": {
      "text/plain": [
       "[(47517, 'Geert Alexander'), (58458, 'Dre'), (59484, 'Alexander')]"
      ]
     },
     "execution_count": 33,
     "metadata": {},
     "output_type": "execute_result"
    }
   ],
   "source": [
    "from sqlalchemy import select\n",
    "connection = engine.connect()\n",
    "sel = select([Host])\n",
    "sel = sel.limit(3)\n",
    "rp = connection.execute(sel)\n",
    "rp.fetchall()"
   ]
  },
  {
   "cell_type": "code",
   "execution_count": 34,
   "metadata": {},
   "outputs": [
    {
     "name": "stdout",
     "output_type": "stream",
     "text": [
      "SELECT count() AS count_1 \n",
      "FROM hosts\n"
     ]
    },
    {
     "data": {
      "text/plain": [
       "3113"
      ]
     },
     "execution_count": 34,
     "metadata": {},
     "output_type": "execute_result"
    }
   ],
   "source": [
    "from sqlalchemy.sql import func\n",
    "s=select([func.count(Host.__table__)])\n",
    "print(str(s))\n",
    "rp = connection.execute(s)\n",
    "rp.scalar()"
   ]
  },
  {
   "cell_type": "markdown",
   "metadata": {},
   "source": [
    "Наполнение справочника типов комнат"
   ]
  },
  {
   "cell_type": "code",
   "execution_count": 35,
   "metadata": {},
   "outputs": [
    {
     "data": {
      "text/plain": [
       "(4, 'Shared room')"
      ]
     },
     "execution_count": 35,
     "metadata": {},
     "output_type": "execute_result"
    }
   ],
   "source": [
    "room_type_df = df[\"room_type\"].value_counts().sort_index().reset_index()\n",
    "room_type_df.index = range(1, len(room_type_df)+1)\n",
    "room_type_dict=room_type_df[\"index\"].to_dict()\n",
    "\n",
    "for value in room_type_dict.values():\n",
    "    w = Room_type(room_type_name = value)\n",
    "    session.add(w)\n",
    "\n",
    "session.commit()\n",
    "w.room_type_id, w.room_type_name"
   ]
  },
  {
   "cell_type": "markdown",
   "metadata": {},
   "source": [
    "Наполнение справочников типов собственности"
   ]
  },
  {
   "cell_type": "code",
   "execution_count": 36,
   "metadata": {},
   "outputs": [
    {
     "data": {
      "text/plain": [
       "(42, 'Tiny house')"
      ]
     },
     "execution_count": 36,
     "metadata": {},
     "output_type": "execute_result"
    }
   ],
   "source": [
    "property_type_df = df[\"property_type\"].value_counts().sort_index().reset_index()\n",
    "property_type_df.index = range(1, len(property_type_df)+1)\n",
    "property_type_dict = property_type_df[\"index\"].to_dict()\n",
    "\n",
    "for value in property_type_dict.values():\n",
    "    w = Property_type(property_type_name = value)\n",
    "    session.add(w)\n",
    "\n",
    "session.commit()\n",
    "w.property_type_id, w.property_type_name"
   ]
  },
  {
   "cell_type": "markdown",
   "metadata": {},
   "source": [
    "### Задание 3.2.2.2.\n",
    "\n",
    "Наполните данными таблицу *listings*"
   ]
  },
  {
   "cell_type": "code",
   "execution_count": 37,
   "metadata": {},
   "outputs": [],
   "source": [
    "# Ваш код здесь"
   ]
  },
  {
   "cell_type": "code",
   "execution_count": 38,
   "metadata": {
    "scrolled": false
   },
   "outputs": [
    {
     "data": {
      "text/html": [
       "<div>\n",
       "<style scoped>\n",
       "    .dataframe tbody tr th:only-of-type {\n",
       "        vertical-align: middle;\n",
       "    }\n",
       "\n",
       "    .dataframe tbody tr th {\n",
       "        vertical-align: top;\n",
       "    }\n",
       "\n",
       "    .dataframe thead th {\n",
       "        text-align: right;\n",
       "    }\n",
       "</style>\n",
       "<table border=\"1\" class=\"dataframe\">\n",
       "  <thead>\n",
       "    <tr style=\"text-align: right;\">\n",
       "      <th></th>\n",
       "      <th>id</th>\n",
       "      <th>listing_url</th>\n",
       "      <th>name</th>\n",
       "      <th>host_id</th>\n",
       "      <th>host_name</th>\n",
       "      <th>host_is_superhost</th>\n",
       "      <th>neighbourhood_cleansed</th>\n",
       "      <th>property_type</th>\n",
       "      <th>room_type</th>\n",
       "      <th>bathrooms_text</th>\n",
       "      <th>...</th>\n",
       "      <th>first_review</th>\n",
       "      <th>last_review</th>\n",
       "      <th>review_scores_rating</th>\n",
       "      <th>review_scores_accuracy</th>\n",
       "      <th>review_scores_cleanliness</th>\n",
       "      <th>review_scores_checkin</th>\n",
       "      <th>review_scores_communication</th>\n",
       "      <th>review_scores_location</th>\n",
       "      <th>review_scores_value</th>\n",
       "      <th>reviews_per_month</th>\n",
       "    </tr>\n",
       "  </thead>\n",
       "  <tbody>\n",
       "    <tr>\n",
       "      <th>0</th>\n",
       "      <td>20168</td>\n",
       "      <td>https://www.airbnb.com/rooms/20168</td>\n",
       "      <td>Studio with private bathroom in the centre 1</td>\n",
       "      <td>59484</td>\n",
       "      <td>Alexander</td>\n",
       "      <td>f</td>\n",
       "      <td>Centrum-Oost</td>\n",
       "      <td>Private room in townhouse</td>\n",
       "      <td>Private room</td>\n",
       "      <td>1 private bath</td>\n",
       "      <td>...</td>\n",
       "      <td>2010-03-02</td>\n",
       "      <td>2020-04-09</td>\n",
       "      <td>89</td>\n",
       "      <td>10.0</td>\n",
       "      <td>10.0</td>\n",
       "      <td>10.0</td>\n",
       "      <td>10.0</td>\n",
       "      <td>10.0</td>\n",
       "      <td>9.0</td>\n",
       "      <td>2.58</td>\n",
       "    </tr>\n",
       "  </tbody>\n",
       "</table>\n",
       "<p>1 rows × 25 columns</p>\n",
       "</div>"
      ],
      "text/plain": [
       "      id                         listing_url  \\\n",
       "0  20168  https://www.airbnb.com/rooms/20168   \n",
       "\n",
       "                                           name  host_id  host_name  \\\n",
       "0  Studio with private bathroom in the centre 1    59484  Alexander   \n",
       "\n",
       "  host_is_superhost neighbourhood_cleansed              property_type  \\\n",
       "0                 f           Centrum-Oost  Private room in townhouse   \n",
       "\n",
       "      room_type  bathrooms_text  ...  first_review  last_review  \\\n",
       "0  Private room  1 private bath  ...    2010-03-02   2020-04-09   \n",
       "\n",
       "  review_scores_rating  review_scores_accuracy  review_scores_cleanliness  \\\n",
       "0                   89                    10.0                       10.0   \n",
       "\n",
       "  review_scores_checkin review_scores_communication  review_scores_location  \\\n",
       "0                  10.0                        10.0                    10.0   \n",
       "\n",
       "   review_scores_value  reviews_per_month  \n",
       "0                  9.0               2.58  \n",
       "\n",
       "[1 rows x 25 columns]"
      ]
     },
     "execution_count": 38,
     "metadata": {},
     "output_type": "execute_result"
    }
   ],
   "source": [
    "df.head(1)"
   ]
  },
  {
   "cell_type": "markdown",
   "metadata": {},
   "source": [
    "В процессе работы выдается предупреждение о том, что тип данных \"десятичное число\" не поддерживается напрямую. Чтобы отключить такие сообщения, выполним команду\n",
    "```\n",
    "import warnings; warnings.simplefilter('ignore')\n",
    "```"
   ]
  },
  {
   "cell_type": "code",
   "execution_count": 39,
   "metadata": {
    "scrolled": true
   },
   "outputs": [
    {
     "name": "stdout",
     "output_type": "stream",
     "text": [
      "36 https://www.airbnb.com/rooms/42053844 Perfect Couples Getaway In West Area 1464510 7 2 1\n"
     ]
    }
   ],
   "source": [
    "import warnings; warnings.simplefilter('ignore')\n",
    "\n",
    "neigh_dict_reversed = {}\n",
    "for key, value in neigh_dict.items():\n",
    "    neigh_dict_reversed[value]=key\n",
    "\n",
    "property_type_dict_reversed = {}\n",
    "for key, value in property_type_dict.items():\n",
    "    property_type_dict_reversed[value] = key\n",
    "\n",
    "room_type_dict_reversed = {}\n",
    "for key, value in room_type_dict.items():\n",
    "    room_type_dict_reversed[value] = key\n",
    "    \n",
    "for row in df.index[::100]:\n",
    "    w = Listing(\n",
    "        listing_name = df.loc[row, 'name'],\n",
    "        listing_url = df.loc[row, 'listing_url'],\n",
    "        host_id = int(df.loc[row, 'host_id']),\n",
    "        neighbourhood_id = neigh_dict_reversed[df.loc[row, 'neighbourhood_cleansed']],\n",
    "        amenities = df.loc[row, 'amenities'],\n",
    "        property_type_id = property_type_dict_reversed[df.loc[row, 'property_type']],\n",
    "        room_type_id = room_type_dict_reversed[df.loc[row, 'room_type']],\n",
    "        bedrooms = df.loc[row, 'bedrooms'],\n",
    "        beds = df.loc[row, 'beds'],\n",
    "        price = df.loc[row, 'price']\n",
    "    )\n",
    "    \n",
    "    session.add(w)\n",
    "\n",
    "session.commit()\n",
    "print(w.listing_id, w.listing_url, w.listing_name, \n",
    "      w.host_id, w.neighbourhood_id, w.property_type_id, w.room_type_id)"
   ]
  },
  {
   "cell_type": "markdown",
   "metadata": {},
   "source": [
    "<img src=\"../Img/Label_02.png\">"
   ]
  },
  {
   "cell_type": "markdown",
   "metadata": {},
   "source": [
    "Семинар\n",
    "\n",
    "30 апреля 2021 года <br>\n",
    "ПИ19-3, ПИ19-4 - 3 подгруппа<br>\n",
    "\n",
    "30 апреля 2021 года <br>\n",
    "ПИ19-4, ПИ19-5 - 4 подгруппа\n",
    "\n",
    "15 мая 2021 года <br>\n",
    "ПИ19-2, ПИ19-3, ПИ19-4 - 2 подгруппа"
   ]
  },
  {
   "cell_type": "markdown",
   "metadata": {},
   "source": [
    "## 3.2.3. Запросы\n",
    "\n",
    "### Методы *first(), all(), one().* Ограничение *limit()*."
   ]
  }
 ],
 "metadata": {
  "kernelspec": {
   "display_name": "Python 3",
   "language": "python",
   "name": "python3"
  },
  "language_info": {
   "codemirror_mode": {
    "name": "ipython",
    "version": 3
   },
   "file_extension": ".py",
   "mimetype": "text/x-python",
   "name": "python",
   "nbconvert_exporter": "python",
   "pygments_lexer": "ipython3",
   "version": "3.7.6"
  }
 },
 "nbformat": 4,
 "nbformat_minor": 4
}
